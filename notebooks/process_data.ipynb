{
 "cells": [
  {
   "cell_type": "code",
   "execution_count": 1,
   "id": "cda2930a-f86d-4c16-9baf-b912f9a3a979",
   "metadata": {},
   "outputs": [],
   "source": [
    "import numpy as np"
   ]
  },
  {
   "cell_type": "code",
   "execution_count": 2,
   "id": "de11c4de-04fb-41a7-8373-9557a19935c5",
   "metadata": {},
   "outputs": [
    {
     "name": "stderr",
     "output_type": "stream",
     "text": [
      "2024-07-21 09:11:02.008986: I tensorflow/core/util/port.cc:113] oneDNN custom operations are on. You may see slightly different numerical results due to floating-point round-off errors from different computation orders. To turn them off, set the environment variable `TF_ENABLE_ONEDNN_OPTS=0`.\n",
      "2024-07-21 09:11:02.010607: I external/local_tsl/tsl/cuda/cudart_stub.cc:32] Could not find cuda drivers on your machine, GPU will not be used.\n",
      "2024-07-21 09:11:02.015398: I external/local_tsl/tsl/cuda/cudart_stub.cc:32] Could not find cuda drivers on your machine, GPU will not be used.\n",
      "2024-07-21 09:11:02.031983: E external/local_xla/xla/stream_executor/cuda/cuda_fft.cc:479] Unable to register cuFFT factory: Attempting to register factory for plugin cuFFT when one has already been registered\n",
      "2024-07-21 09:11:02.066084: E external/local_xla/xla/stream_executor/cuda/cuda_dnn.cc:10575] Unable to register cuDNN factory: Attempting to register factory for plugin cuDNN when one has already been registered\n",
      "2024-07-21 09:11:02.066158: E external/local_xla/xla/stream_executor/cuda/cuda_blas.cc:1442] Unable to register cuBLAS factory: Attempting to register factory for plugin cuBLAS when one has already been registered\n",
      "2024-07-21 09:11:02.091580: I tensorflow/core/platform/cpu_feature_guard.cc:210] This TensorFlow binary is optimized to use available CPU instructions in performance-critical operations.\n",
      "To enable the following instructions: AVX2 AVX512F AVX512_VNNI AVX512_BF16 FMA, in other operations, rebuild TensorFlow with the appropriate compiler flags.\n",
      "2024-07-21 09:11:03.681019: W tensorflow/compiler/tf2tensorrt/utils/py_utils.cc:38] TF-TRT Warning: Could not find TensorRT\n"
     ]
    }
   ],
   "source": [
    "import tensorflow as tf"
   ]
  },
  {
   "cell_type": "code",
   "execution_count": 3,
   "id": "cd0672d0-fadd-4ac3-a7f5-6c966b903d4d",
   "metadata": {},
   "outputs": [],
   "source": [
    "input_dir = \"../data/\"\n",
    "skeleton_loc = input_dir + \"0002-L_Skeleton.txt\"\n",
    "label_loc = input_dir + \"0002-L_Label.txt\""
   ]
  },
  {
   "cell_type": "code",
   "execution_count": 4,
   "id": "9fa21c02-abf8-4d5b-b698-a9169e44a7a8",
   "metadata": {},
   "outputs": [],
   "source": [
    "with open(skeleton_loc) as f:\n",
    "    skeletons = f.read().split(\"\\n\")\n",
    "\n",
    "skeletons = [s.split(\" \")[:25*3] for s in skeletons]\n",
    "_ = skeletons.pop()"
   ]
  },
  {
   "cell_type": "code",
   "execution_count": 5,
   "id": "e402cd8b-65ab-402c-abb9-a64f203a008e",
   "metadata": {},
   "outputs": [],
   "source": [
    "sk_np = np.array([\n",
    "    [list(map(float, s[j*3 : (j+1)*3])) for j in range(len(s) // 3)] for s in skeletons\n",
    "])"
   ]
  },
  {
   "cell_type": "code",
   "execution_count": 6,
   "id": "2e83c9c1-0873-4e18-8c62-cda52c06882d",
   "metadata": {},
   "outputs": [],
   "source": [
    "frames = sk_np.shape[0]"
   ]
  },
  {
   "cell_type": "code",
   "execution_count": 7,
   "id": "4e158014-efc0-4836-88c1-c047370514e3",
   "metadata": {},
   "outputs": [],
   "source": [
    "# Interpolate\n",
    "\n",
    "sk_np = tf.image.resize(sk_np, size=(2048, sk_np.shape[1]), method=tf.image.ResizeMethod.BILINEAR).numpy()"
   ]
  },
  {
   "cell_type": "code",
   "execution_count": 8,
   "id": "6cf3603a-2179-4c4a-a43e-51825a5c9155",
   "metadata": {},
   "outputs": [],
   "source": [
    "# VIT\n",
    "\n",
    "for t in sk_np:\n",
    "    t -= t[0]"
   ]
  },
  {
   "cell_type": "code",
   "execution_count": 9,
   "id": "0ba7e154-9556-40bd-b9d1-76b8c5d12c9f",
   "metadata": {},
   "outputs": [],
   "source": [
    "# TSI\n",
    "\n",
    "maxes = np.max(sk_np, axis=(0, 1))\n",
    "mins = np.min(sk_np, axis=(0, 1))\n",
    "max_diff = np.max(maxes - mins)\n",
    "\n",
    "for c in range(sk_np.shape[-1]):\n",
    "    sk_np[:,:,c] = np.floor(255 * (sk_np[:,:,c] - mins[c]) / max_diff) / 255"
   ]
  },
  {
   "cell_type": "code",
   "execution_count": 10,
   "id": "29a45922-d1ba-496d-bcf3-221da4352380",
   "metadata": {},
   "outputs": [],
   "source": [
    "sk_image = tf.constant(sk_np)"
   ]
  },
  {
   "cell_type": "code",
   "execution_count": 11,
   "id": "6d59027f-212a-4cae-94ff-4bdf1fe8f190",
   "metadata": {},
   "outputs": [],
   "source": [
    "sk_motion = sk_image[1:,:,:] - sk_image[:-1,:,:]\n",
    "sk_motion = tf.image.resize(sk_motion, size=(2048, sk_motion.shape[1]), method=tf.image.ResizeMethod.BILINEAR)"
   ]
  },
  {
   "cell_type": "code",
   "execution_count": 12,
   "id": "faaecbb6-4c9e-46a5-9426-02de8526e695",
   "metadata": {},
   "outputs": [
    {
     "data": {
      "text/plain": [
       "TensorShape([2048, 25, 3])"
      ]
     },
     "execution_count": 12,
     "metadata": {},
     "output_type": "execute_result"
    }
   ],
   "source": [
    "sk_image.shape"
   ]
  },
  {
   "cell_type": "code",
   "execution_count": 14,
   "id": "de18c9ea-65b3-420b-8017-4f479f0cbe9c",
   "metadata": {},
   "outputs": [
    {
     "data": {
      "text/plain": [
       "TensorShape([2048, 25, 3])"
      ]
     },
     "execution_count": 14,
     "metadata": {},
     "output_type": "execute_result"
    }
   ],
   "source": [
    "sk_motion.shape"
   ]
  },
  {
   "cell_type": "code",
   "execution_count": 15,
   "id": "e9d0a7fa-af3c-4dec-a64d-74a288fd8cf2",
   "metadata": {},
   "outputs": [],
   "source": [
    "with open(label_loc) as f:\n",
    "    labels = f.read().split(\"\\n\")\n",
    "    \n",
    "labels = [list(map(int, l.split(\",\")[:-1])) for l in labels]\n",
    "_ = labels.pop()\n",
    "\n",
    "labels = list(filter(lambda x: x[0] <= 10, labels))"
   ]
  },
  {
   "cell_type": "code",
   "execution_count": 16,
   "id": "96a62981-7405-4153-a708-f3c2984d71ec",
   "metadata": {},
   "outputs": [],
   "source": [
    "def map_point(x, frames):\n",
    "    return x * 2048 / frames"
   ]
  },
  {
   "cell_type": "code",
   "execution_count": 23,
   "id": "8eeffc46-f611-4863-9978-ddedb56120d7",
   "metadata": {},
   "outputs": [
    {
     "name": "stdout",
     "output_type": "stream",
     "text": [
      "3 99 105 112 0.0 2.5649493574615367\n",
      "8 485 488 490 0.5 1.6094379124341003\n",
      "7 657 669 681 0.5 3.1780538303479453\n",
      "9 705 720 736 0.0 3.4339872044851463\n"
     ]
    }
   ],
   "source": [
    "heatmap_t = np.zeros((1024, 1, 10))\n",
    "offset_t = np.zeros((1024, 1, 1))\n",
    "size_t = np.zeros((1024, 1, 1))\n",
    "\n",
    "for label in labels:\n",
    "    cat = label[0] - 1\n",
    "    c = (label[2] + label[1]) / 2\n",
    "\n",
    "    s = np.floor(map_point(label[1], frames))\n",
    "    e = np.ceil(map_point(label[2], frames))\n",
    "    c = np.floor(map_point(c, frames))\n",
    "\n",
    "    off = (s / 2) - np.floor(s / 2)\n",
    "\n",
    "    s = int(np.floor(s / 2) - 1)\n",
    "    e = int(np.floor(e / 2) - 1)\n",
    "    c = int(np.floor(c / 2) - 1)\n",
    "    sig = (e - s) / 6\n",
    "    \n",
    "    for x, h in enumerate(heatmap_t):\n",
    "        h[0][cat] += np.exp( - (x - c)**2 / (2 * sig**2))\n",
    "\n",
    "    offset_t[c][0][0] = off\n",
    "    size_t[c][0][0] = np.log(e - s)"
   ]
  },
  {
   "cell_type": "code",
   "execution_count": 34,
   "id": "2ec77b7a-eea8-4a2d-bb53-3d71522daaaa",
   "metadata": {},
   "outputs": [
    {
     "name": "stdout",
     "output_type": "stream",
     "text": [
      "[0.         0.         0.         0.         0.         0.\n",
      " 0.         0.         0.         0.         0.         0.\n",
      " 0.         0.         0.         0.         0.         0.\n",
      " 0.         0.         0.         0.         0.         0.\n",
      " 0.         0.         0.         0.         0.         0.\n",
      " 0.         0.         0.         0.         0.         0.\n",
      " 0.         0.         0.         0.         0.         0.\n",
      " 0.         0.         0.         0.         0.         0.\n",
      " 0.         0.         0.         0.         0.         0.\n",
      " 0.         0.         0.         0.         0.         0.\n",
      " 0.         0.         0.         0.         0.         0.\n",
      " 0.         0.         0.         0.         0.         0.\n",
      " 0.         0.         0.         0.         0.         0.\n",
      " 0.         0.         0.         0.         0.         0.\n",
      " 0.         0.         0.         0.         0.         0.\n",
      " 0.         0.         0.         0.         0.         0.\n",
      " 0.         0.         0.         0.         0.         0.\n",
      " 0.         0.         0.         2.56494936 0.         0.\n",
      " 0.         0.         0.         0.         0.         0.\n",
      " 0.         0.         0.         0.         0.         0.\n",
      " 0.         0.         0.         0.         0.         0.\n",
      " 0.         0.         0.         0.         0.         0.\n",
      " 0.         0.         0.         0.         0.         0.\n",
      " 0.         0.         0.         0.         0.         0.\n",
      " 0.         0.         0.         0.         0.         0.\n",
      " 0.         0.         0.         0.         0.         0.\n",
      " 0.         0.         0.         0.         0.         0.\n",
      " 0.         0.         0.         0.         0.         0.\n",
      " 0.         0.         0.         0.         0.         0.\n",
      " 0.         0.         0.         0.         0.         0.\n",
      " 0.         0.         0.         0.         0.         0.\n",
      " 0.         0.         0.         0.         0.         0.\n",
      " 0.         0.         0.         0.         0.         0.\n",
      " 0.         0.         0.         0.         0.         0.\n",
      " 0.         0.         0.         0.         0.         0.\n",
      " 0.         0.         0.         0.         0.         0.\n",
      " 0.         0.         0.         0.         0.         0.\n",
      " 0.         0.         0.         0.         0.         0.\n",
      " 0.         0.         0.         0.         0.         0.\n",
      " 0.         0.         0.         0.         0.         0.\n",
      " 0.         0.         0.         0.         0.         0.\n",
      " 0.         0.         0.         0.         0.         0.\n",
      " 0.         0.         0.         0.         0.         0.\n",
      " 0.         0.         0.         0.         0.         0.\n",
      " 0.         0.         0.         0.         0.         0.\n",
      " 0.         0.         0.         0.         0.         0.\n",
      " 0.         0.         0.         0.         0.         0.\n",
      " 0.         0.         0.         0.         0.         0.\n",
      " 0.         0.         0.         0.         0.         0.\n",
      " 0.         0.         0.         0.         0.         0.\n",
      " 0.         0.         0.         0.         0.         0.\n",
      " 0.         0.         0.         0.         0.         0.\n",
      " 0.         0.         0.         0.         0.         0.\n",
      " 0.         0.         0.         0.         0.         0.\n",
      " 0.         0.         0.         0.         0.         0.\n",
      " 0.         0.         0.         0.         0.         0.\n",
      " 0.         0.         0.         0.         0.         0.\n",
      " 0.         0.         0.         0.         0.         0.\n",
      " 0.         0.         0.         0.         0.         0.\n",
      " 0.         0.         0.         0.         0.         0.\n",
      " 0.         0.         0.         0.         0.         0.\n",
      " 0.         0.         0.         0.         0.         0.\n",
      " 0.         0.         0.         0.         0.         0.\n",
      " 0.         0.         0.         0.         0.         0.\n",
      " 0.         0.         0.         0.         0.         0.\n",
      " 0.         0.         0.         0.         0.         0.\n",
      " 0.         0.         0.         0.         0.         0.\n",
      " 0.         0.         0.         0.         0.         0.\n",
      " 0.         0.         0.         0.         0.         0.\n",
      " 0.         0.         0.         0.         0.         0.\n",
      " 0.         0.         0.         0.         0.         0.\n",
      " 0.         0.         0.         0.         0.         0.\n",
      " 0.         0.         0.         0.         0.         0.\n",
      " 0.         0.         0.         0.         0.         0.\n",
      " 0.         0.         0.         0.         0.         0.\n",
      " 0.         0.         0.         0.         0.         0.\n",
      " 0.         0.         0.         0.         0.         0.\n",
      " 0.         0.         0.         0.         0.         0.\n",
      " 0.         0.         0.         0.         0.         0.\n",
      " 0.         0.         0.         0.         0.         0.\n",
      " 0.         0.         0.         0.         0.         0.\n",
      " 0.         0.         1.60943791 0.         0.         0.\n",
      " 0.         0.         0.         0.         0.         0.\n",
      " 0.         0.         0.         0.         0.         0.\n",
      " 0.         0.         0.         0.         0.         0.\n",
      " 0.         0.         0.         0.         0.         0.\n",
      " 0.         0.         0.         0.         0.         0.\n",
      " 0.         0.         0.         0.         0.         0.\n",
      " 0.         0.         0.         0.         0.         0.\n",
      " 0.         0.         0.         0.         0.         0.\n",
      " 0.         0.         0.         0.         0.         0.\n",
      " 0.         0.         0.         0.         0.         0.\n",
      " 0.         0.         0.         0.         0.         0.\n",
      " 0.         0.         0.         0.         0.         0.\n",
      " 0.         0.         0.         0.         0.         0.\n",
      " 0.         0.         0.         0.         0.         0.\n",
      " 0.         0.         0.         0.         0.         0.\n",
      " 0.         0.         0.         0.         0.         0.\n",
      " 0.         0.         0.         0.         0.         0.\n",
      " 0.         0.         0.         0.         0.         0.\n",
      " 0.         0.         0.         0.         0.         0.\n",
      " 0.         0.         0.         0.         0.         0.\n",
      " 0.         0.         0.         0.         0.         0.\n",
      " 0.         0.         0.         0.         0.         0.\n",
      " 0.         0.         0.         0.         0.         0.\n",
      " 0.         0.         0.         0.         0.         0.\n",
      " 0.         0.         0.         0.         0.         0.\n",
      " 0.         0.         0.         0.         0.         0.\n",
      " 0.         0.         0.         0.         0.         0.\n",
      " 0.         0.         0.         0.         0.         0.\n",
      " 0.         0.         0.         0.         0.         0.\n",
      " 0.         0.         0.         3.17805383 0.         0.\n",
      " 0.         0.         0.         0.         0.         0.\n",
      " 0.         0.         0.         0.         0.         0.\n",
      " 0.         0.         0.         0.         0.         0.\n",
      " 0.         0.         0.         0.         0.         0.\n",
      " 0.         0.         0.         0.         0.         0.\n",
      " 0.         0.         0.         0.         0.         0.\n",
      " 0.         0.         0.         0.         0.         0.\n",
      " 0.         0.         0.         0.         0.         0.\n",
      " 3.4339872  0.         0.         0.         0.         0.\n",
      " 0.         0.         0.         0.         0.         0.\n",
      " 0.         0.         0.         0.         0.         0.\n",
      " 0.         0.         0.         0.         0.         0.\n",
      " 0.         0.         0.         0.         0.         0.\n",
      " 0.         0.         0.         0.         0.         0.\n",
      " 0.         0.         0.         0.         0.         0.\n",
      " 0.         0.         0.         0.         0.         0.\n",
      " 0.         0.         0.         0.         0.         0.\n",
      " 0.         0.         0.         0.         0.         0.\n",
      " 0.         0.         0.         0.         0.         0.\n",
      " 0.         0.         0.         0.         0.         0.\n",
      " 0.         0.         0.         0.         0.         0.\n",
      " 0.         0.         0.         0.         0.         0.\n",
      " 0.         0.         0.         0.         0.         0.\n",
      " 0.         0.         0.         0.         0.         0.\n",
      " 0.         0.         0.         0.         0.         0.\n",
      " 0.         0.         0.         0.         0.         0.\n",
      " 0.         0.         0.         0.         0.         0.\n",
      " 0.         0.         0.         0.         0.         0.\n",
      " 0.         0.         0.         0.         0.         0.\n",
      " 0.         0.         0.         0.         0.         0.\n",
      " 0.         0.         0.         0.         0.         0.\n",
      " 0.         0.         0.         0.         0.         0.\n",
      " 0.         0.         0.         0.         0.         0.\n",
      " 0.         0.         0.         0.         0.         0.\n",
      " 0.         0.         0.         0.         0.         0.\n",
      " 0.         0.         0.         0.         0.         0.\n",
      " 0.         0.         0.         0.         0.         0.\n",
      " 0.         0.         0.         0.         0.         0.\n",
      " 0.         0.         0.         0.         0.         0.\n",
      " 0.         0.         0.         0.         0.         0.\n",
      " 0.         0.         0.         0.         0.         0.\n",
      " 0.         0.         0.         0.         0.         0.\n",
      " 0.         0.         0.         0.         0.         0.\n",
      " 0.         0.         0.         0.         0.         0.\n",
      " 0.         0.         0.         0.         0.         0.\n",
      " 0.         0.         0.         0.         0.         0.\n",
      " 0.         0.         0.         0.         0.         0.\n",
      " 0.         0.         0.         0.         0.         0.\n",
      " 0.         0.         0.         0.         0.         0.\n",
      " 0.         0.         0.         0.         0.         0.\n",
      " 0.         0.         0.         0.         0.         0.\n",
      " 0.         0.         0.         0.         0.         0.\n",
      " 0.         0.         0.         0.         0.         0.\n",
      " 0.         0.         0.         0.         0.         0.\n",
      " 0.         0.         0.         0.         0.         0.\n",
      " 0.         0.         0.         0.         0.         0.\n",
      " 0.         0.         0.         0.         0.         0.\n",
      " 0.         0.         0.         0.         0.         0.\n",
      " 0.         0.         0.         0.        ]\n"
     ]
    }
   ],
   "source": [
    "opt = np.get_printoptions()\n",
    "np.set_printoptions(threshold=np.inf)\n",
    "\n",
    "print(size_t[:,0,0])\n",
    "\n",
    "np.set_printoptions(**opt)"
   ]
  }
 ],
 "metadata": {
  "kernelspec": {
   "display_name": "Python 3 (ipykernel)",
   "language": "python",
   "name": "python3"
  },
  "language_info": {
   "codemirror_mode": {
    "name": "ipython",
    "version": 3
   },
   "file_extension": ".py",
   "mimetype": "text/x-python",
   "name": "python",
   "nbconvert_exporter": "python",
   "pygments_lexer": "ipython3",
   "version": "3.10.12"
  }
 },
 "nbformat": 4,
 "nbformat_minor": 5
}
